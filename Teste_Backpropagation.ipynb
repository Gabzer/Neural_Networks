{
 "cells": [
  {
   "cell_type": "code",
   "execution_count": 3,
   "metadata": {
    "collapsed": true
   },
   "outputs": [],
   "source": [
    "import math\n",
    "import sys\n",
    "sys.path.append('C:/Users/Gabzer/Desktop/Mestrado/Neural_Networks/')\n",
    "from Perceptron import Perceptron"
   ]
  },
  {
   "cell_type": "code",
   "execution_count": 4,
   "metadata": {},
   "outputs": [],
   "source": [
    "#Métodos para o Backpropagation\n",
    "def erroTotal(results, saidas):\n",
    "    result = 0\n",
    "    for i in range(len(results)):\n",
    "        result += 1 / 2 * (saidas[i] - results[i]) ** 2\n",
    "    return result\n",
    "\n",
    "#servem para a última camada\n",
    "#derivada\n",
    "def derivada(saida_desejada, funcao_ativacao1, funcao_ativacao2):\n",
    "    return -(saida_desejada - funcao_ativacao1) * funcao_ativacao1 * (1 - funcao_ativacao1) * funcao_ativacao2\n",
    "#valor t + 1 do peso\n",
    "def novoPeso(peso_atual, taxa_aprendizado, d_peso):\n",
    "    return peso_atual - taxa_aprendizado * d_peso\n",
    "\n",
    "#outras camadas\n",
    "def derivada2(saida_desejada, funcao_ativacao):\n",
    "    return -(saida_desejada - funcao_ativacao) * funcao_ativacao * (1 - funcao_ativacao)\n",
    "    \n",
    "def derivada3(peso, derivada, funcao_ativacao):\n",
    "    return (peso[0] * derivada[0] + peso[1] * derivada[1]) * funcao_ativacao * (1 - funcao_ativacao)\n",
    "\n",
    "def novoPeso2(peso_atual, taxa_aprendizado, d_peso):\n",
    "    return peso_atual - taxa_aprendizado * d_peso * saida_desejada"
   ]
  },
  {
   "cell_type": "code",
   "execution_count": 11,
   "metadata": {},
   "outputs": [
    {
     "name": "stdout",
     "output_type": "stream",
     "text": [
      "Resultado:0.7513650695523157 e 0.7729284653214625Uops... Reajustar\n",
      "0\n",
      "Resultado:0.7513650695523157 e 0.7729284653214625Uops... Reajustar\n",
      "1\n",
      "Resultado:0.7513650695523157 e 0.7729284653214625Uops... Reajustar\n",
      "2\n",
      "Resultado:0.7513650695523157 e 0.7729284653214625Uops... Reajustar\n",
      "3\n",
      "Resultado:0.7513650695523157 e 0.7729284653214625Uops... Reajustar\n",
      "4\n",
      "Resultado:0.7513650695523157 e 0.7729284653214625Uops... Reajustar\n",
      "5\n",
      "Resultado:0.7513650695523157 e 0.7729284653214625Uops... Reajustar\n",
      "6\n",
      "Resultado:0.7513650695523157 e 0.7729284653214625Uops... Reajustar\n",
      "7\n",
      "Resultado:0.7513650695523157 e 0.7729284653214625Uops... Reajustar\n",
      "8\n",
      "Resultado:0.7513650695523157 e 0.7729284653214625Uops... Reajustar\n",
      "9\n"
     ]
    }
   ],
   "source": [
    "epocas = 10\n",
    "count = 0\n",
    "saidas = [0.01, 0.99]     # y1 e y2\n",
    "\n",
    "while count < epocas:\n",
    "    \n",
    "############################################################################################################################\n",
    "###                                                   CAMADA 1                                                           ###\n",
    "############################################################################################################################\n",
    "    #Perceptron H1\n",
    "    entradas = [0.05, 0.1]     # x1 e x2\n",
    "    bias = 0.35                # layer1\n",
    "    pesos = [0.15, 0.2]        # w1 e w2\n",
    "    perceptron_h1 = Perceptron(entradas, pesos, bias)\n",
    "    \n",
    "    #Perceptron H2\n",
    "    entradas = [0.05, 0.1]     # x1 e x2\n",
    "    bias = 0.35                # layer1\n",
    "    pesos = [0.25, 0.3]        # w3 e w4\n",
    "    perceptron_h2 = Perceptron(entradas, pesos, bias)\n",
    "    \n",
    "    #Resultado dos Somatórios\n",
    "    uh1 = perceptron_h1.somatorio()\n",
    "    uh2 = perceptron_h2.somatorio()\n",
    "    \n",
    "    #Resultado das funções de ativação\n",
    "    h1 = perceptron_h1.sigmoide(uh1)\n",
    "    h2 = perceptron_h2.sigmoide(uh2)\n",
    "    \n",
    "############################################################################################################################\n",
    "###                                                   CAMADA 2                                                           ###\n",
    "############################################################################################################################\n",
    "    #Perceptron O1\n",
    "    entradas = [h1, h2]\n",
    "    bias = 0.6                 # layer2\n",
    "    pesos = [0.4, 0.45]        # w5 e w6\n",
    "    perceptron_o1 = Perceptron(entradas, pesos, bias)\n",
    "    \n",
    "    #Perceptron O2\n",
    "    entradas = [h1, h2]\n",
    "    bias = 0.6                 # layer2\n",
    "    pesos = [0.5, 0.55]        # w7 e w8\n",
    "    perceptron_o2 = Perceptron(entradas, pesos, bias)\n",
    "    \n",
    "    #Resultado dos Somatórios\n",
    "    uo1 = perceptron_o1.somatorio()\n",
    "    uo2 = perceptron_o2.somatorio()\n",
    "    \n",
    "    #Resultado das funções de ativação\n",
    "    o1 = perceptron_o1.sigmoide(uo1)\n",
    "    o2 = perceptron_o2.sigmoide(uo2)\n",
    "    \n",
    "    ###################################################################\n",
    "    #finaliza o loop se o resultado da sigmoide é = as saídas desejadas\n",
    "    if o1 == saidas[0] and o2 == saidas[1]:\n",
    "        break\n",
    "    else:\n",
    "        print('Resultado:' + str(o1) + ' e ' + str(o2) + 'Uops... Reajustar')\n",
    "    ###################################################################\n",
    "    \n",
    "    results = [o1, o2]\n",
    "    E_total = erroTotal(results, saidas)\n",
    "    \n",
    "    \n",
    "    \n",
    "###########################################            CORRIGINDO            ##############################################\n",
    "    ###Camada 2###\n",
    "    #calcula a derivada de w5\n",
    "    d_w5 = derivada(0.01, o1, h1)\n",
    "    taxa_aprendizado = 0.5\n",
    "    #calcula o valor ajustado de w5\n",
    "    w5_novo = novoPeso(perceptron_o1.pesos[0], taxa_aprendizado, d_w5)\n",
    "    \n",
    "    #calcula a derivada de w6\n",
    "    d_w6 = derivada(0.01, o1, h2)\n",
    "    taxa_aprendizado = 0.5\n",
    "    #calcula o valor ajustado de w6\n",
    "    w6_novo = novoPeso(perceptron_o1.pesos[1], taxa_aprendizado, d_w6)\n",
    "    \n",
    "    #calcula a derivada de w7\n",
    "    d_w7 = derivada(0.99, o2, h1)\n",
    "    taxa_aprendizado = 0.5\n",
    "    #calcula o valor ajustado de w7\n",
    "    w7_novo = novoPeso(perceptron_o2.pesos[0], taxa_aprendizado, d_w7)\n",
    "    \n",
    "    #calcula a derivada de w8\n",
    "    d_w8 = derivada(0.99, o2, 0.05)\n",
    "    taxa_aprendizado = 0.5\n",
    "    #calcula o valor ajustado de w8\n",
    "    w8_novo = novoPeso(perceptron_o2.pesos[1], taxa_aprendizado, d_w8)\n",
    "    \n",
    "    \n",
    "    ###Camada 1###\n",
    "    #d_o1 = -(y1 - go1) * go1 * (1 - go1)\n",
    "    d_o1 = -(saidas[0] - o1) * o1 * (1 - o1)\n",
    "    \n",
    "    #d_h1 = (w5 * d_o1 + w2 * d_o1) * gh1 * (1 - gh1)\n",
    "    d_h1 = (perceptron_o1.pesos[1] * d_o1 + perceptron_h1.pesos[1] * d_o1) * h1 * (1 - h1)\n",
    "    \n",
    "    w1_novo = perceptron_h1.pesos[0] - d_h1 * saidas[0]\n",
    "    \n",
    "    #w2(t + 1) = w2(t) - d_h1 * y1\n",
    "    w2_novo = perceptron_h1.pesos[1] - d_h1 * saidas[0]\n",
    "    \n",
    "    #d_o2 = -(y2 - go2) * go2 * (1 - go2)\n",
    "    d_o2 = -(saidas[1] - o2) * o2 * (1 - o2)\n",
    "    \n",
    "    #d_h2 = (w6 * d_o1 + w8 * d_o2) * gh2 * (1 - gh2)\n",
    "    d_h2 = (perceptron_o1.pesos[1] * d_o1 + perceptron_o2.pesos[1] * d_o2) * h2 * (1 - h2)\n",
    "    \n",
    "    #w3(t + 1) = w3(t) - d_h2 * y2\n",
    "    w3_novo = perceptron_h2.pesos[0] - d_h2 * saidas[1]\n",
    "    \n",
    "    #w4(t + 1) = w4(t) - d_h2 * y2\n",
    "    w4_novo = perceptron_h2.pesos[1] - d_h2 * saidas[1]\n",
    "    \n",
    "    \n",
    "    \n",
    "    print(count)\n",
    "    count += 1"
   ]
  },
  {
   "cell_type": "code",
   "execution_count": 2,
   "metadata": {},
   "outputs": [
    {
     "name": "stdout",
     "output_type": "stream",
     "text": [
      "0\n",
      "1\n",
      "2\n",
      "3\n",
      "4\n",
      "5\n",
      "6\n",
      "7\n",
      "8\n",
      "9\n"
     ]
    }
   ],
   "source": [
    "count = 0\n",
    "while count < 10:\n",
    "    print(count)\n",
    "    count += 1"
   ]
  },
  {
   "cell_type": "code",
   "execution_count": 2,
   "metadata": {
    "collapsed": true
   },
   "outputs": [],
   "source": [
    "############################################################################################################################\n",
    "###                                                   CAMADA 1                                                           ###\n",
    "############################################################################################################################"
   ]
  },
  {
   "cell_type": "code",
   "execution_count": 3,
   "metadata": {
    "collapsed": true
   },
   "outputs": [],
   "source": [
    "#Perceptron H1\n",
    "entradas = [0.05, 0.1]     # x1 e x2\n",
    "bias = 0.35                # layer1\n",
    "pesos = [0.15, 0.2]        # w1 e w2\n",
    "\n",
    "perceptron_h1 = Perceptron(entradas, pesos, bias)"
   ]
  },
  {
   "cell_type": "code",
   "execution_count": 4,
   "metadata": {
    "collapsed": true
   },
   "outputs": [],
   "source": [
    "#Perceptron H2\n",
    "entradas = [0.05, 0.1]     # x1 e x2\n",
    "bias = 0.35                # layer1\n",
    "pesos = [0.25, 0.3]        # w3 e w4\n",
    "\n",
    "perceptron_h2 = Perceptron(entradas, pesos, bias)"
   ]
  },
  {
   "cell_type": "code",
   "execution_count": 5,
   "metadata": {},
   "outputs": [
    {
     "name": "stdout",
     "output_type": "stream",
     "text": [
      "0.3775\n",
      "0.39249999999999996\n"
     ]
    }
   ],
   "source": [
    "#Resultado dos Somatórios\n",
    "uh1 = perceptron_h1.somatorio()\n",
    "uh2 = perceptron_h2.somatorio()\n",
    "print(uh1)\n",
    "print(uh2)"
   ]
  },
  {
   "cell_type": "code",
   "execution_count": 6,
   "metadata": {},
   "outputs": [
    {
     "name": "stdout",
     "output_type": "stream",
     "text": [
      "0.5932699921071872\n",
      "0.596884378259767\n"
     ]
    }
   ],
   "source": [
    "#Resultado das funções de ativação\n",
    "h1 = perceptron_h1.sigmoide(uh1)\n",
    "h2 = perceptron_h2.sigmoide(uh2)\n",
    "print(h1)\n",
    "print(h2)"
   ]
  },
  {
   "cell_type": "code",
   "execution_count": 7,
   "metadata": {
    "collapsed": true
   },
   "outputs": [],
   "source": [
    "############################################################################################################################\n",
    "###                                                   CAMADA 2                                                           ###\n",
    "############################################################################################################################"
   ]
  },
  {
   "cell_type": "code",
   "execution_count": 8,
   "metadata": {
    "collapsed": true
   },
   "outputs": [],
   "source": [
    "#Perceptron O1\n",
    "entradas = [h1, h2]\n",
    "bias = 0.6                 # layer2\n",
    "pesos = [0.4, 0.45]        # w5 e w6\n",
    "\n",
    "perceptron_o1 = Perceptron(entradas, pesos, bias)"
   ]
  },
  {
   "cell_type": "code",
   "execution_count": 9,
   "metadata": {
    "collapsed": true
   },
   "outputs": [],
   "source": [
    "#Perceptron O2\n",
    "entradas = [h1, h2]\n",
    "bias = 0.6                 # layer2\n",
    "pesos = [0.5, 0.55]        # w7 e w8\n",
    "\n",
    "perceptron_o2 = Perceptron(entradas, pesos, bias)"
   ]
  },
  {
   "cell_type": "code",
   "execution_count": 10,
   "metadata": {},
   "outputs": [
    {
     "name": "stdout",
     "output_type": "stream",
     "text": [
      "1.1059059670597702\n",
      "1.2249214040964653\n"
     ]
    }
   ],
   "source": [
    "#Resultado dos Somatórios\n",
    "uo1 = perceptron_o1.somatorio()\n",
    "uo2 = perceptron_o2.somatorio()\n",
    "print(uo1)\n",
    "print(uo2)"
   ]
  },
  {
   "cell_type": "code",
   "execution_count": 11,
   "metadata": {},
   "outputs": [
    {
     "name": "stdout",
     "output_type": "stream",
     "text": [
      "0.7513650695523157\n",
      "0.7729284653214625\n"
     ]
    }
   ],
   "source": [
    "#Resultado das funções de ativação\n",
    "o1 = perceptron_o1.sigmoide(uo1)\n",
    "o2 = perceptron_o2.sigmoide(uo2)\n",
    "print(o1)\n",
    "print(o2)"
   ]
  },
  {
   "cell_type": "code",
   "execution_count": 12,
   "metadata": {
    "collapsed": true
   },
   "outputs": [],
   "source": [
    "saidas = [0.01, 0.99]     # y1 e y2\n",
    "results = [o1, o2]"
   ]
  },
  {
   "cell_type": "code",
   "execution_count": 13,
   "metadata": {
    "collapsed": true
   },
   "outputs": [],
   "source": [
    "#Métodos para o Backpropagation\n",
    "def erroTotal(results, saidas):\n",
    "    result = 0\n",
    "    for i in range(len(results)):\n",
    "        result += 1 / 2 * (saidas[i] - results[i]) ** 2\n",
    "    return result\n",
    "\n",
    "#servem para a última camada\n",
    "#derivada\n",
    "def derivada(saida_desejada, funcao_ativacao1, funcao_ativacao2):\n",
    "    return -(saida_desejada - funcao_ativacao1) * funcao_ativacao1 * (1 - funcao_ativacao1) * funcao_ativacao2\n",
    "#valor t + 1 do peso\n",
    "def novoPeso(peso_atual, taxa_aprendizado, d_peso):\n",
    "    return peso_atual - taxa_aprendizado * d_peso\n",
    "\n",
    "#outras camadas\n",
    "def derivada2(saida_desejada, funcao_ativacao):\n",
    "    return -(saida_desejada - funcao_ativacao) * funcao_ativacao * (1 - funcao_ativacao)\n",
    "    \n",
    "def derivada3(peso, derivada, funcao_ativacao):\n",
    "    return (peso[0] * derivada[0] + peso[1] * derivada[1]) * funcao_ativacao * (1 - funcao_ativacao)\n",
    "\n",
    "def novoPeso2(peso_atual, taxa_aprendizado, d_peso):\n",
    "    return peso_atual - taxa_aprendizado * d_peso * saida_desejada"
   ]
  },
  {
   "cell_type": "code",
   "execution_count": 14,
   "metadata": {},
   "outputs": [
    {
     "name": "stdout",
     "output_type": "stream",
     "text": [
      "0.2983711087600027\n"
     ]
    }
   ],
   "source": [
    "E_total = erroTotal(results, saidas)\n",
    "print(E_total)"
   ]
  },
  {
   "cell_type": "code",
   "execution_count": 15,
   "metadata": {
    "collapsed": true
   },
   "outputs": [],
   "source": [
    "###########################################            CORRIGINDO            ##############################################"
   ]
  },
  {
   "cell_type": "code",
   "execution_count": 16,
   "metadata": {
    "collapsed": true
   },
   "outputs": [],
   "source": [
    "###Camada 2###"
   ]
  },
  {
   "cell_type": "code",
   "execution_count": 17,
   "metadata": {},
   "outputs": [
    {
     "name": "stdout",
     "output_type": "stream",
     "text": [
      "0.08216704056423077\n",
      "0.35891647971788465\n"
     ]
    }
   ],
   "source": [
    "#calcula a derivada de w5\n",
    "d_w5 = derivada(0.01, o1, h1)\n",
    "print(d_w5)\n",
    "taxa_aprendizado = 0.5\n",
    "#calcula o valor ajustado de w5\n",
    "w5_novo = novoPeso(perceptron_o1.pesos[0], taxa_aprendizado, d_w5)\n",
    "print(w5_novo)"
   ]
  },
  {
   "cell_type": "code",
   "execution_count": 18,
   "metadata": {},
   "outputs": [
    {
     "name": "stdout",
     "output_type": "stream",
     "text": [
      "0.08266762784753325\n",
      "0.4086661860762334\n"
     ]
    }
   ],
   "source": [
    "#calcula a derivada de w6\n",
    "d_w6 = derivada(0.01, o1, h2)\n",
    "print(d_w6)\n",
    "taxa_aprendizado = 0.5\n",
    "#calcula o valor ajustado de w6\n",
    "w6_novo = novoPeso(perceptron_o1.pesos[1], taxa_aprendizado, d_w6)\n",
    "print(w6_novo)"
   ]
  },
  {
   "cell_type": "code",
   "execution_count": 19,
   "metadata": {},
   "outputs": [
    {
     "name": "stdout",
     "output_type": "stream",
     "text": [
      "-0.02260254047747507\n",
      "0.5113012702387375\n"
     ]
    }
   ],
   "source": [
    "#calcula a derivada de w7\n",
    "d_w7 = derivada(0.99, o2, h1)\n",
    "print(d_w7)\n",
    "taxa_aprendizado = 0.5\n",
    "#calcula o valor ajustado de w7\n",
    "w7_novo = novoPeso(perceptron_o2.pesos[0], taxa_aprendizado, d_w7)\n",
    "print(w7_novo)"
   ]
  },
  {
   "cell_type": "code",
   "execution_count": 20,
   "metadata": {},
   "outputs": [
    {
     "name": "stdout",
     "output_type": "stream",
     "text": [
      "-0.001904911825827812\n",
      "0.550952455912914\n"
     ]
    }
   ],
   "source": [
    "#calcula a derivada de w8\n",
    "d_w8 = derivada(0.99, o2, 0.05)\n",
    "print(d_w8)\n",
    "taxa_aprendizado = 0.5\n",
    "#calcula o valor ajustado de w8\n",
    "w8_novo = novoPeso(perceptron_o2.pesos[1], taxa_aprendizado, d_w8)\n",
    "print(w8_novo)"
   ]
  },
  {
   "cell_type": "code",
   "execution_count": 21,
   "metadata": {
    "collapsed": true
   },
   "outputs": [],
   "source": [
    "###Camada 1###"
   ]
  },
  {
   "cell_type": "code",
   "execution_count": 22,
   "metadata": {},
   "outputs": [
    {
     "name": "stdout",
     "output_type": "stream",
     "text": [
      "0.13849856162855695\n"
     ]
    }
   ],
   "source": [
    "#d_o1 = -(y1 - go1) * go1 * (1 - go1)\n",
    "d_o1 = -(saidas[0] - o1) * o1 * (1 - o1)\n",
    "print(d_o1)\n",
    "\n",
    "# esse seria o resultado de d_Eo1 / d_uo1"
   ]
  },
  {
   "cell_type": "code",
   "execution_count": 23,
   "metadata": {},
   "outputs": [
    {
     "name": "stdout",
     "output_type": "stream",
     "text": [
      "0.02172287068719212\n"
     ]
    }
   ],
   "source": [
    "#d_h1 = (w5 * d_o1 + w2 * d_o1) * gh1 * (1 - gh1)\n",
    "d_h1 = (perceptron_o1.pesos[1] * d_o1 + perceptron_h1.pesos[1] * d_o1) * h1 * (1 - h1)\n",
    "print(d_h1)"
   ]
  },
  {
   "cell_type": "code",
   "execution_count": 34,
   "metadata": {},
   "outputs": [
    {
     "name": "stdout",
     "output_type": "stream",
     "text": [
      "0.1497827712931281\n"
     ]
    }
   ],
   "source": [
    "w1_novo = perceptron_h1.pesos[0] - d_h1 * saidas[0]\n",
    "print(w1_novo)"
   ]
  },
  {
   "cell_type": "code",
   "execution_count": 35,
   "metadata": {},
   "outputs": [
    {
     "name": "stdout",
     "output_type": "stream",
     "text": [
      "0.19989138564656406\n"
     ]
    }
   ],
   "source": [
    "#w2(t + 1) = w2(t) - d_h1 * y1\n",
    "w2_novo = perceptron_h1.pesos[1] - d_h1 * saidas[0]\n",
    "print(w2_novo)\n",
    "#Segundo o prof o i1 é y1"
   ]
  },
  {
   "cell_type": "code",
   "execution_count": 26,
   "metadata": {},
   "outputs": [
    {
     "name": "stdout",
     "output_type": "stream",
     "text": [
      "-0.038098236516556236\n"
     ]
    }
   ],
   "source": [
    "#d_o2 = -(y2 - go2) * go2 * (1 - go2)\n",
    "d_o2 = -(saidas[1] - o2) * o2 * (1 - o2)\n",
    "print(d_o2)"
   ]
  },
  {
   "cell_type": "code",
   "execution_count": 27,
   "metadata": {},
   "outputs": [
    {
     "name": "stdout",
     "output_type": "stream",
     "text": [
      "0.009954254705217196\n"
     ]
    }
   ],
   "source": [
    "#d_h2 = (w6 * d_o1 + w8 * d_o2) * gh2 * (1 - gh2)\n",
    "d_h2 = (perceptron_o1.pesos[1] * d_o1 + perceptron_o2.pesos[1] * d_o2) * h2 * (1 - h2)\n",
    "print(d_h2)"
   ]
  },
  {
   "cell_type": "code",
   "execution_count": 36,
   "metadata": {},
   "outputs": [
    {
     "name": "stdout",
     "output_type": "stream",
     "text": [
      "0.2450726439209175\n"
     ]
    }
   ],
   "source": [
    "#w3(t + 1) = w3(t) - d_h2 * y2\n",
    "w3_novo = perceptron_h2.pesos[0] - d_h2 * saidas[1]\n",
    "print(w3_novo)"
   ]
  },
  {
   "cell_type": "code",
   "execution_count": 32,
   "metadata": {},
   "outputs": [
    {
     "name": "stdout",
     "output_type": "stream",
     "text": [
      "0.29014528784183496\n"
     ]
    }
   ],
   "source": [
    "#w4(t + 1) = w4(t) - d_h2 * y2\n",
    "w4_novo = perceptron_h2.pesos[1] - d_h2 * saidas[1]\n",
    "print(w4_novo)"
   ]
  },
  {
   "cell_type": "code",
   "execution_count": null,
   "metadata": {
    "collapsed": true
   },
   "outputs": [],
   "source": []
  },
  {
   "cell_type": "code",
   "execution_count": null,
   "metadata": {
    "collapsed": true
   },
   "outputs": [],
   "source": [
    "#epocas = 1000"
   ]
  }
 ],
 "metadata": {
  "kernelspec": {
   "display_name": "Python 3",
   "language": "python",
   "name": "python3"
  },
  "language_info": {
   "codemirror_mode": {
    "name": "ipython",
    "version": 3
   },
   "file_extension": ".py",
   "mimetype": "text/x-python",
   "name": "python",
   "nbconvert_exporter": "python",
   "pygments_lexer": "ipython3",
   "version": "3.6.2"
  }
 },
 "nbformat": 4,
 "nbformat_minor": 2
}
