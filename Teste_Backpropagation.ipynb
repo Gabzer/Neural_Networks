{
 "cells": [
  {
   "cell_type": "code",
   "execution_count": 25,
   "metadata": {
    "collapsed": true
   },
   "outputs": [],
   "source": [
    "import matplotlib.pyplot as plt\n",
    "%matplotlib inline\n",
    "import math\n",
    "import sys\n",
    "sys.path.append('C:/Users/Gabzer/Desktop/Mestrado/Neural_Networks/')\n",
    "from Perceptron import Perceptron"
   ]
  },
  {
   "cell_type": "code",
   "execution_count": 2,
   "metadata": {
    "collapsed": true
   },
   "outputs": [],
   "source": [
    "#Métodos para o Backpropagation\n",
    "def erroTotal(results, saidas):\n",
    "    result = 0\n",
    "    for i in range(len(results)):\n",
    "        result += 1 / 2 * (saidas[i] - results[i]) ** 2\n",
    "    return result\n",
    "\n",
    "#servem para a última camada\n",
    "#derivada\n",
    "def derivada(saida_desejada, funcao_ativacao1, funcao_ativacao2):\n",
    "    return -(saida_desejada - funcao_ativacao1) * funcao_ativacao1 * (1 - funcao_ativacao1) * funcao_ativacao2\n",
    "#valor t + 1 do peso\n",
    "def novoPeso(peso_atual, taxa_aprendizado, d_peso):\n",
    "    return peso_atual - taxa_aprendizado * d_peso\n",
    "\n",
    "#outras camadas\n",
    "def derivada2(saida_desejada, funcao_ativacao):\n",
    "    return -(saida_desejada - funcao_ativacao) * funcao_ativacao * (1 - funcao_ativacao)\n",
    "    \n",
    "def derivada3(peso, derivada, funcao_ativacao):\n",
    "    return (peso[0] * derivada[0] + peso[1] * derivada[1]) * funcao_ativacao * (1 - funcao_ativacao)\n",
    "\n",
    "def novoPeso2(peso_atual, taxa_aprendizado, d_peso):\n",
    "    return peso_atual - taxa_aprendizado * d_peso * saida_desejada"
   ]
  },
  {
   "cell_type": "code",
   "execution_count": 32,
   "metadata": {},
   "outputs": [
    {
     "name": "stdout",
     "output_type": "stream",
     "text": [
      "Resultado:0.7513650695523157 e 0.7729284653214625Uops... Reajustar\n",
      "Erro total da rede: 0.2983711087600027\n",
      "0\n",
      "====================================================================\n",
      "Resultado:0.742061826218241 e 0.7741674862336226Uops... Reajustar\n",
      "Erro total da rede: 0.29124909570234975\n",
      "1\n",
      "====================================================================\n",
      "Resultado:0.7324337830322526 e 0.775393522502123Uops... Reajustar\n",
      "Erro total da rede: 0.2839832555251693\n",
      "2\n",
      "====================================================================\n",
      "Resultado:0.722488357021748 e 0.7766070762897396Uops... Reajustar\n",
      "Erro total da rede: 0.27658809939058143\n",
      "3\n",
      "====================================================================\n",
      "Resultado:0.7122360099404723 e 0.777808622131537Uops... Reajustar\n",
      "Erro total da rede: 0.26908029724941596\n",
      "4\n",
      "====================================================================\n",
      "Resultado:0.7016903801465391 e 0.7789986034700868Uops... Reajustar\n",
      "Erro total da rede: 0.2614785856624187\n",
      "5\n",
      "====================================================================\n",
      "Resultado:0.6908683473910429 e 0.7801774293425067Uops... Reajustar\n",
      "Erro total da rede: 0.2538036088181643\n",
      "6\n",
      "====================================================================\n",
      "Resultado:0.6797900191634729 e 0.7813454713645028Uops... Reajustar\n",
      "Erro total da rede: 0.24607769104555344\n",
      "7\n",
      "====================================================================\n",
      "Resultado:0.6684786298788068 e 0.7825030611609451Uops... Reajustar\n",
      "Erro total da rede: 0.23832454281732454\n",
      "8\n",
      "====================================================================\n",
      "Resultado:0.6569603478857979 e 0.7836504883873747Uops... Reajustar\n",
      "Erro total da rede: 0.23056890633964083\n",
      "9\n",
      "====================================================================\n",
      "Resultado:0.6452639898545084 e 0.7847879994711822Uops... Reajustar\n",
      "Erro total da rede: 0.22283615098345425\n",
      "10\n",
      "====================================================================\n",
      "Resultado:0.6334206472569548 e 0.785915797174926Uops... Reajustar\n",
      "Erro total da rede: 0.2151518326345132\n",
      "11\n",
      "====================================================================\n",
      "Resultado:0.6214632349669017 e 0.78703404104851Uops... Reajustar\n",
      "Erro total da rede: 0.20754123410464317\n",
      "12\n",
      "====================================================================\n",
      "Resultado:0.6094259769817993 e 0.7881428487939779Uops... Reajustar\n",
      "Erro total da rede: 0.20002890568679776\n",
      "13\n",
      "====================================================================\n",
      "Resultado:0.5973438484118188 e 0.789242298519822Uops... Reajustar\n",
      "Erro total da rede: 0.19263822548540488\n",
      "14\n",
      "====================================================================\n",
      "Resultado:0.5852519957510122 e 0.7903324318149352Uops... Reajustar\n",
      "Erro total da rede: 0.18539099820023\n",
      "15\n",
      "====================================================================\n",
      "Resultado:0.5731851587363549 e 0.7914132575297363Uops... Reajustar\n",
      "Erro total da rede: 0.17830710865292204\n",
      "16\n",
      "====================================================================\n",
      "Resultado:0.5611771166820267 e 0.7924847561173876Uops... Reajustar\n",
      "Erro total da rede: 0.1714042427599602\n",
      "17\n",
      "====================================================================\n",
      "Resultado:0.5492601801163269 e 0.7935468843642041Uops... Reajustar\n",
      "Erro total da rede: 0.16469768425105238\n",
      "18\n",
      "====================================================================\n",
      "Resultado:0.5374647450988553 e 0.7945995803269907Uops... Reajustar\n",
      "Erro total da rede: 0.15820019066529428\n",
      "19\n",
      "====================================================================\n",
      "Resultado:0.5258189231494134 e 0.7956427682963381Uops... Reajustar\n",
      "Erro total da rede: 0.15192194749726565\n",
      "20\n",
      "====================================================================\n",
      "Resultado:0.5143482547497887 e 0.7966763636177715Uops... Reajustar\n",
      "Erro total da rede: 0.14587059522660295\n",
      "21\n",
      "====================================================================\n",
      "Resultado:0.503075509367008 e 0.797700277224884Uops... Reajustar\n",
      "Erro total da rede: 0.1400513206584604\n",
      "22\n",
      "====================================================================\n",
      "Resultado:0.4920205703201893 e 0.7987144197673613Uops... Reajustar\n",
      "Erro total da rede: 0.1344670017083689\n",
      "23\n",
      "====================================================================\n",
      "Resultado:0.4812003989016725 e 0.7997187052489843Uops... Reajustar\n",
      "Erro total da rede: 0.1291183935286091\n",
      "24\n",
      "====================================================================\n",
      "Resultado:0.47062906917180447 e 0.8007130541233541Uops... Reajustar\n",
      "Erro total da rede: 0.12400434362269563\n",
      "25\n",
      "====================================================================\n",
      "Resultado:0.46031786285503923 e 0.8016973958257085Uops... Reajustar\n",
      "Erro total da rede: 0.11912202417257489\n",
      "26\n",
      "====================================================================\n",
      "Resultado:0.4502754127422488 e 0.8026716707459421Uops... Reajustar\n",
      "Erro total da rede: 0.11446717100323711\n",
      "27\n",
      "====================================================================\n",
      "Resultado:0.44050788283675707 e 0.803635831669692Uops... Reajustar\n",
      "Erro total da rede: 0.11003432021101715\n",
      "28\n",
      "====================================================================\n",
      "Resultado:0.4310191740045412 e 0.8045898447306091Uops... Reajustar\n",
      "Erro total da rede: 0.10581703527824289\n",
      "29\n",
      "====================================================================\n",
      "Resultado:0.4218111449156509 e 0.8055336899278118Uops... Reajustar\n",
      "Erro total da rede: 0.10180811931419395\n",
      "30\n",
      "====================================================================\n",
      "Resultado:0.41288383941063184 e 0.806467361268513Uops... Reajustar\n",
      "Erro total da rede: 0.09799980876899714\n",
      "31\n",
      "====================================================================\n",
      "Resultado:0.4042357129294495 e 0.8073908665976626Uops... Reajustar\n",
      "Erro total da rede: 0.09438394647547199\n",
      "32\n",
      "====================================================================\n",
      "Resultado:0.39586385216827863 e 0.8083042271750448Uops... Reajustar\n",
      "Erro total da rede: 0.09095213313630046\n",
      "33\n",
      "====================================================================\n",
      "Resultado:0.38776418358266496 e 0.8092074770564777Uops... Reajustar\n",
      "Erro total da rede: 0.0876958573750807\n",
      "34\n",
      "====================================================================\n",
      "Resultado:0.37993166766788655 e 0.8101006623303907Uops... Reajustar\n",
      "Erro total da rede: 0.08460660521875388\n",
      "35\n",
      "====================================================================\n",
      "Resultado:0.3723604770813086 e 0.8109838402548031Uops... Reajustar\n",
      "Erro total da rede: 0.08167595040025571\n",
      "36\n",
      "====================================================================\n",
      "Resultado:0.3650441576125851 e 0.8118570783331365Uops... Reajustar\n",
      "Erro total da rede: 0.0788956271974182\n",
      "37\n",
      "====================================================================\n",
      "Resultado:0.35797577175805895 e 0.8127204533607895Uops... Reajustar\n",
      "Erro total da rede: 0.07625758769361038\n",
      "38\n",
      "====================================================================\n",
      "Resultado:0.351148025229429 e 0.8135740504682818Uops... Reajustar\n",
      "Erro total da rede: 0.07375404539305375\n",
      "39\n",
      "====================================================================\n",
      "Resultado:0.34455337714414896 e 0.8144179621812053Uops... Reajustar\n",
      "Erro total da rede: 0.0713775070815779\n",
      "40\n",
      "====================================================================\n",
      "Resultado:0.33818413492965943 e 0.8152522875123203Uops... Reajustar\n",
      "Erro total da rede: 0.06912079471960283\n",
      "41\n",
      "====================================================================\n",
      "Resultado:0.3320325351494091 e 0.8160771310969178Uops... Reajustar\n",
      "Erro total da rede: 0.06697705901111706\n",
      "42\n",
      "====================================================================\n",
      "Resultado:0.32609081154835756 e 0.8168926023790453Uops... Reajustar\n",
      "Erro total da rede: 0.06493978612819931\n",
      "43\n",
      "====================================================================\n",
      "Resultado:0.3203512516395963 e 0.817698814853291Uops... Reajustar\n",
      "Erro total da rede: 0.06300279889861227\n",
      "44\n",
      "====================================================================\n",
      "Resultado:0.3148062431293395 e 0.8184958853645152Uops... Reajustar\n",
      "Erro total da rede: 0.06116025359376177\n",
      "45\n",
      "====================================================================\n",
      "Resultado:0.30944831141934814 e 0.819283933466086Uops... Reajustar\n",
      "Erro total da rede: 0.05940663329235533\n",
      "46\n",
      "====================================================================\n",
      "Resultado:0.30427014934554525 e 0.8200630808358153Uops... Reajustar\n",
      "Erro total da rede: 0.05773673864543208\n",
      "47\n",
      "====================================================================\n",
      "Resultado:0.299264640218299 e 0.8208334507477565Uops... Reajustar\n",
      "Erro total da rede: 0.05614567673326684\n",
      "48\n",
      "====================================================================\n",
      "Resultado:0.2944248751305281 e 0.8215951675973142Uops... Reajustar\n",
      "Erro total da rede: 0.054628848584796594\n",
      "49\n",
      "====================================================================\n",
      "Resultado:0.28974416539951364 e 0.8223483564766373Uops... Reajustar\n",
      "Erro total da rede: 0.053181935825577564\n",
      "50\n",
      "====================================================================\n",
      "Resultado:0.2852160509106673 e 0.8230931427969732Uops... Reajustar\n",
      "Erro total da rede: 0.0518008868301273\n",
      "51\n",
      "====================================================================\n",
      "Resultado:0.28083430503892126 e 0.8238296519545324Uops... Reajustar\n",
      "Erro total da rede: 0.05048190267773364\n",
      "52\n",
      "====================================================================\n",
      "Resultado:0.2765929367373502 e 0.8245580090363753Uops... Reajustar\n",
      "Erro total da rede: 0.04922142314612643\n",
      "53\n",
      "====================================================================\n",
      "Resultado:0.27248619030392446 e 0.8252783385629002Uops... Reajustar\n",
      "Erro total da rede: 0.04801611292343328\n",
      "54\n",
      "====================================================================\n",
      "Resultado:0.2685085432662129 e 0.8259907642636236Uops... Reajustar\n",
      "Erro total da rede: 0.04686284817422486\n",
      "55\n",
      "====================================================================\n",
      "Resultado:0.2646547027603564 e 0.826695408883106Uops... Reajustar\n",
      "Erro total da rede: 0.0457587035589107\n",
      "56\n",
      "====================================================================\n",
      "Resultado:0.2609196007244228 e 0.8273923940140583Uops... Reajustar\n",
      "Erro total da rede: 0.0447009397760915\n",
      "57\n",
      "====================================================================\n",
      "Resultado:0.2572983881768727 e 0.8280818399548688Uops... Reajustar\n",
      "Erro total da rede: 0.043686991673639965\n",
      "58\n",
      "====================================================================\n",
      "Resultado:0.2537864288077901 e 0.8287638655889923Uops... Reajustar\n",
      "Erro total da rede: 0.04271445695533013\n",
      "59\n",
      "====================================================================\n",
      "Resultado:0.2503792920731721 e 0.8294385882838515Uops... Reajustar\n",
      "Erro total da rede: 0.04178108549494096\n",
      "60\n",
      "====================================================================\n",
      "Resultado:0.24707274595035014 e 0.8301061238071035Uops... Reajustar\n",
      "Erro total da rede: 0.04088476925821429\n",
      "61\n",
      "====================================================================\n",
      "Resultado:0.24386274948496572 e 0.8307665862583135Uops... Reajustar\n",
      "Erro total da rede: 0.04002353282424948\n",
      "62\n",
      "====================================================================\n",
      "Resultado:0.24074544523629646 e 0.8314200880142651Uops... Reajustar\n",
      "Erro total da rede: 0.039195524491350046\n",
      "63\n",
      "====================================================================\n",
      "Resultado:0.23771715170763696 e 0.8320667396863057Uops... Reajustar\n",
      "Erro total da rede: 0.03839900794757603\n",
      "64\n",
      "====================================================================\n",
      "Resultado:0.23477435583142636 e 0.8327066500882839Uops... Reajustar\n",
      "Erro total da rede: 0.03763235448294111\n",
      "65\n",
      "====================================================================\n",
      "Resultado:0.23191370556445703 e 0.833339926213788Uops... Reajustar\n",
      "Erro total da rede: 0.03689403571802495\n",
      "66\n",
      "====================================================================\n",
      "Resultado:0.22913200263644634 e 0.8339666732215223Uops... Reajustar\n",
      "Erro total da rede: 0.03618261682250937\n",
      "67\n",
      "====================================================================\n",
      "Resultado:0.22642619548517795 e 0.8345869944277874Uops... Reajustar\n",
      "Erro total da rede: 0.03549675019658852\n",
      "68\n",
      "====================================================================\n",
      "Resultado:0.22379337240302327 e 0.8352009913051389Uops... Reajustar\n",
      "Erro total da rede: 0.03483516958818473\n",
      "69\n",
      "====================================================================\n",
      "Resultado:0.22123075491270602 e 0.8358087634863997Uops... Reajustar\n",
      "Erro total da rede: 0.03419668461929236\n",
      "70\n",
      "====================================================================\n",
      "Resultado:0.21873569138444957 e 0.8364104087732966Uops... Reajustar\n",
      "Erro total da rede: 0.033580175695464995\n",
      "71\n",
      "====================================================================\n",
      "Resultado:0.21630565090195322 e 0.8370060231490706Uops... Reajustar\n",
      "Erro total da rede: 0.032984589273370654\n",
      "72\n",
      "====================================================================\n",
      "Resultado:0.21393821738083618 e 0.837595700794484Uops... Reajustar\n",
      "Erro total da rede: 0.032408933462398815\n",
      "73\n",
      "====================================================================\n",
      "Resultado:0.21163108394010946 e 0.8381795341067158Uops... Reajustar\n",
      "Erro total da rede: 0.031852273937458674\n",
      "74\n",
      "====================================================================\n",
      "Resultado:0.20938204752478276 e 0.8387576137206959Uops... Reajustar\n",
      "Erro total da rede: 0.03131373014131648\n",
      "75\n",
      "====================================================================\n",
      "Resultado:0.20718900377577287 e 0.8393300285324801Uops... Reajustar\n",
      "Erro total da rede: 0.030792471756052514\n",
      "76\n",
      "====================================================================\n",
      "Resultado:0.20504994214177782 e 0.8398968657243143Uops... Reajustar\n",
      "Erro total da rede: 0.030287715424447696\n",
      "77\n",
      "====================================================================\n",
      "Resultado:0.20296294122663053 e 0.8404582107910845Uops... Reajustar\n",
      "Erro total da rede: 0.029798721703317883\n",
      "78\n",
      "====================================================================\n",
      "Resultado:0.20092616436479827 e 0.8410141475678772Uops... Reajustar\n",
      "Erro total da rede: 0.029324792231990117\n",
      "79\n",
      "====================================================================\n",
      "Resultado:0.19893785541708545 e 0.8415647582584151Uops... Reajustar\n",
      "Erro total da rede: 0.028865267100245107\n",
      "80\n",
      "====================================================================\n",
      "Resultado:0.19699633477819742 e 0.842110123464163Uops... Reajustar\n",
      "Erro total da rede: 0.028419522401132394\n",
      "81\n",
      "====================================================================\n",
      "Resultado:0.1950999955875725 e 0.8426503222139174Uops... Reajustar\n",
      "Erro total da rede: 0.027986967955090848\n",
      "82\n",
      "====================================================================\n",
      "Resultado:0.19324730013478933 e 0.8431854319937261Uops... Reajustar\n",
      "Erro total da rede: 0.027567045192779194\n",
      "83\n",
      "====================================================================\n",
      "Resultado:0.19143677645084362 e 0.8437155287769984Uops... Reajustar\n",
      "Erro total da rede: 0.02715922518493329\n",
      "84\n",
      "====================================================================\n",
      "Resultado:0.1896670150766747 e 0.8442406870546882Uops... Reajustar\n",
      "Erro total da rede: 0.026763006808425686\n",
      "85\n",
      "====================================================================\n",
      "Resultado:0.1879366660004656 e 0.8447609798654446Uops... Reajustar\n",
      "Erro total da rede: 0.026377915038503515\n",
      "86\n",
      "====================================================================\n",
      "Resultado:0.18624443575543806 e 0.8452764788256434Uops... Reajustar\n",
      "Erro total da rede: 0.02600349935792859\n",
      "87\n",
      "====================================================================\n",
      "Resultado:0.1845890846700986 e 0.8457872541592226Uops... Reajustar\n",
      "Erro total da rede: 0.025639332274439753\n",
      "88\n",
      "====================================================================\n",
      "Resultado:0.18296942426315782 e 0.8462933747272573Uops... Reajustar\n",
      "Erro total da rede: 0.025285007938604387\n",
      "89\n",
      "====================================================================\n",
      "Resultado:0.18138431477562508 e 0.8467949080572172Uops... Reajustar\n",
      "Erro total da rede: 0.0249401408547257\n",
      "90\n",
      "====================================================================\n",
      "Resultado:0.17983266283288096 e 0.8472919203718634Uops... Reajustar\n",
      "Erro total da rede: 0.024604364678028796\n",
      "91\n",
      "====================================================================\n",
      "Resultado:0.17831341922983002 e 0.8477844766177408Uops... Reajustar\n",
      "Erro total da rede: 0.02427733109186321\n",
      "92\n",
      "====================================================================\n",
      "Resultado:0.17682557683254588 e 0.8482726404932395Uops... Reajustar\n",
      "Erro total da rede: 0.023958708759135104\n",
      "93\n",
      "====================================================================\n",
      "Resultado:0.17536816859012308 e 0.8487564744761938Uops... Reajustar\n",
      "Erro total da rede: 0.023648182342622722\n",
      "94\n",
      "====================================================================\n",
      "Resultado:0.17394026565075624 e 0.8492360398510007Uops... Reajustar\n",
      "Erro total da rede: 0.02334545158923479\n",
      "95\n",
      "====================================================================\n",
      "Resultado:0.17254097557635947 e 0.8497113967352392Uops... Reajustar\n",
      "Erro total da rede: 0.023050230473646065\n",
      "96\n",
      "====================================================================\n",
      "Resultado:0.1711694406503292 e 0.8501826041057804Uops... Reajustar\n",
      "Erro total da rede: 0.02276224639709046\n",
      "97\n",
      "====================================================================\n",
      "Resultado:0.16982483627333508 e 0.8506497198243742Uops... Reajustar\n",
      "Erro total da rede: 0.022481239437411885\n",
      "98\n",
      "====================================================================\n",
      "Resultado:0.1685063694422905 e 0.8511128006627126Uops... Reajustar\n",
      "Erro total da rede: 0.02220696164676565\n",
      "99\n",
      "====================================================================\n"
     ]
    }
   ],
   "source": [
    "epocas = 100\n",
    "count = 0\n",
    "saidas = [0.01, 0.99]     # y1 e y2\n",
    "pesos = [[0.15, 0.2],     # w1 e w2\n",
    "        [0.25, 0.3],      # w3 e w4\n",
    "        [0.4, 0.45],      # w5 e w6\n",
    "        [0.5, 0.55]]      # w7 e w8\n",
    "listE_total = []\n",
    "listCount = []\n",
    "\n",
    "while count < epocas:\n",
    "    \n",
    "############################################################################################################################\n",
    "###                                                   CAMADA 1                                                           ###\n",
    "############################################################################################################################\n",
    "    #Perceptron H1\n",
    "    entradas = [0.05, 0.1]     # x1 e x2\n",
    "    bias = 0.35                # layer1\n",
    "    perceptron_h1 = Perceptron(entradas, pesos[0], bias)    \n",
    "    #Perceptron H2\n",
    "    entradas = [0.05, 0.1]     # x1 e x2\n",
    "    bias = 0.35                # layer1\n",
    "    perceptron_h2 = Perceptron(entradas, pesos[1], bias)    \n",
    "    #Resultado dos Somatórios\n",
    "    uh1 = perceptron_h1.somatorio()\n",
    "    uh2 = perceptron_h2.somatorio()    \n",
    "    #Resultado das funções de ativação\n",
    "    h1 = perceptron_h1.sigmoide(uh1)\n",
    "    h2 = perceptron_h2.sigmoide(uh2)    \n",
    "############################################################################################################################\n",
    "###                                                   CAMADA 2                                                           ###\n",
    "############################################################################################################################\n",
    "    #Perceptron O1\n",
    "    entradas = [h1, h2]\n",
    "    bias = 0.6                 # layer2\n",
    "    perceptron_o1 = Perceptron(entradas, pesos[2], bias)    \n",
    "    #Perceptron O2\n",
    "    entradas = [h1, h2]\n",
    "    bias = 0.6                 # layer2\n",
    "    perceptron_o2 = Perceptron(entradas, pesos[3], bias)    \n",
    "    #Resultado dos Somatórios\n",
    "    uo1 = perceptron_o1.somatorio()\n",
    "    uo2 = perceptron_o2.somatorio()    \n",
    "    #Resultado das funções de ativação\n",
    "    o1 = perceptron_o1.sigmoide(uo1)\n",
    "    o2 = perceptron_o2.sigmoide(uo2)    \n",
    "    ###################################################################\n",
    "    #finaliza o loop se o resultado da sigmoide é = as saídas desejadas\n",
    "    if o1 == saidas[0] and o2 == saidas[1]:\n",
    "        print('Resolvido!')\n",
    "        break\n",
    "    else:\n",
    "        print('Resultado:' + str(o1) + ' e ' + str(o2) + 'Uops... Reajustar')\n",
    "    ###################################################################    \n",
    "    results = [o1, o2]\n",
    "    E_total = erroTotal(results, saidas)\n",
    "    print('Erro total da rede: ' + str(E_total))    \n",
    "    \n",
    "####################################################### CORRIGINDO #########################################################\n",
    "    ###Camada 2###\n",
    "    #calcula a derivada de w5\n",
    "    d_w5 = derivada(0.01, o1, h1)\n",
    "    taxa_aprendizado = 0.5\n",
    "    #calcula o valor ajustado de w5\n",
    "    w5_novo = novoPeso(perceptron_o1.pesos[0], taxa_aprendizado, d_w5)\n",
    "    \n",
    "    #calcula a derivada de w6\n",
    "    d_w6 = derivada(0.01, o1, h2)\n",
    "    taxa_aprendizado = 0.5\n",
    "    #calcula o valor ajustado de w6\n",
    "    w6_novo = novoPeso(perceptron_o1.pesos[1], taxa_aprendizado, d_w6)\n",
    "    \n",
    "    #calcula a derivada de w7\n",
    "    d_w7 = derivada(0.99, o2, h1)\n",
    "    taxa_aprendizado = 0.5\n",
    "    #calcula o valor ajustado de w7\n",
    "    w7_novo = novoPeso(perceptron_o2.pesos[0], taxa_aprendizado, d_w7)\n",
    "    \n",
    "    #calcula a derivada de w8\n",
    "    d_w8 = derivada(0.99, o2, 0.05)\n",
    "    taxa_aprendizado = 0.5\n",
    "    #calcula o valor ajustado de w8\n",
    "    w8_novo = novoPeso(perceptron_o2.pesos[1], taxa_aprendizado, d_w8)\n",
    "    \n",
    "    \n",
    "    ###Camada 1###\n",
    "    #d_o1 = -(y1 - go1) * go1 * (1 - go1)\n",
    "    d_o1 = -(saidas[0] - o1) * o1 * (1 - o1)\n",
    "    \n",
    "    #d_h1 = (w5 * d_o1 + w2 * d_o1) * gh1 * (1 - gh1)\n",
    "    d_h1 = (perceptron_o1.pesos[1] * d_o1 + perceptron_h1.pesos[1] * d_o1) * h1 * (1 - h1)\n",
    "    \n",
    "    w1_novo = perceptron_h1.pesos[0] - d_h1 * saidas[0]\n",
    "    \n",
    "    #w2(t + 1) = w2(t) - d_h1 * y1\n",
    "    w2_novo = perceptron_h1.pesos[1] - d_h1 * saidas[0]\n",
    "    \n",
    "    #d_o2 = -(y2 - go2) * go2 * (1 - go2)\n",
    "    d_o2 = -(saidas[1] - o2) * o2 * (1 - o2)\n",
    "    \n",
    "    #d_h2 = (w6 * d_o1 + w8 * d_o2) * gh2 * (1 - gh2)\n",
    "    d_h2 = (perceptron_o1.pesos[1] * d_o1 + perceptron_o2.pesos[1] * d_o2) * h2 * (1 - h2)\n",
    "    \n",
    "    #w3(t + 1) = w3(t) - d_h2 * y2\n",
    "    w3_novo = perceptron_h2.pesos[0] - d_h2 * saidas[1]\n",
    "    \n",
    "    #w4(t + 1) = w4(t) - d_h2 * y2\n",
    "    w4_novo = perceptron_h2.pesos[1] - d_h2 * saidas[1]\n",
    "    \n",
    "    \n",
    "    #os pesos sinápticos reajustados são postos em seus lugares para a nova iteração\n",
    "    pesos = [[w1_novo, w2_novo],     # w1 e w2\n",
    "            [w3_novo, w4_novo],      # w3 e w4\n",
    "            [w5_novo, w6_novo],      # w5 e w6\n",
    "            [w7_novo, w8_novo]]      # w7 e w8\n",
    "    \n",
    "    print(count)\n",
    "    count += 1\n",
    "    print('====================================================================')\n",
    "    \n",
    "    \n",
    "    listE_total.append(E_total)\n",
    "    listCount.append(count)"
   ]
  },
  {
   "cell_type": "code",
   "execution_count": 35,
   "metadata": {},
   "outputs": [
    {
     "data": {
      "text/plain": [
       "[0.2983711087600027,\n",
       " 0.29124909570234975,\n",
       " 0.2839832555251693,\n",
       " 0.27658809939058143,\n",
       " 0.26908029724941596,\n",
       " 0.2614785856624187,\n",
       " 0.2538036088181643,\n",
       " 0.24607769104555344,\n",
       " 0.23832454281732454,\n",
       " 0.23056890633964083,\n",
       " 0.22283615098345425,\n",
       " 0.2151518326345132,\n",
       " 0.20754123410464317,\n",
       " 0.20002890568679776,\n",
       " 0.19263822548540488,\n",
       " 0.18539099820023,\n",
       " 0.17830710865292204,\n",
       " 0.1714042427599602,\n",
       " 0.16469768425105238,\n",
       " 0.15820019066529428,\n",
       " 0.15192194749726565,\n",
       " 0.14587059522660295,\n",
       " 0.1400513206584604,\n",
       " 0.1344670017083689,\n",
       " 0.1291183935286091,\n",
       " 0.12400434362269563,\n",
       " 0.11912202417257489,\n",
       " 0.11446717100323711,\n",
       " 0.11003432021101715,\n",
       " 0.10581703527824289,\n",
       " 0.10180811931419395,\n",
       " 0.09799980876899714,\n",
       " 0.09438394647547199,\n",
       " 0.09095213313630046,\n",
       " 0.0876958573750807,\n",
       " 0.08460660521875388,\n",
       " 0.08167595040025571,\n",
       " 0.0788956271974182,\n",
       " 0.07625758769361038,\n",
       " 0.07375404539305375,\n",
       " 0.0713775070815779,\n",
       " 0.06912079471960283,\n",
       " 0.06697705901111706,\n",
       " 0.06493978612819931,\n",
       " 0.06300279889861227,\n",
       " 0.06116025359376177,\n",
       " 0.05940663329235533,\n",
       " 0.05773673864543208,\n",
       " 0.05614567673326684,\n",
       " 0.054628848584796594,\n",
       " 0.053181935825577564,\n",
       " 0.0518008868301273,\n",
       " 0.05048190267773364,\n",
       " 0.04922142314612643,\n",
       " 0.04801611292343328,\n",
       " 0.04686284817422486,\n",
       " 0.0457587035589107,\n",
       " 0.0447009397760915,\n",
       " 0.043686991673639965,\n",
       " 0.04271445695533013,\n",
       " 0.04178108549494096,\n",
       " 0.04088476925821429,\n",
       " 0.04002353282424948,\n",
       " 0.039195524491350046,\n",
       " 0.03839900794757603,\n",
       " 0.03763235448294111,\n",
       " 0.03689403571802495,\n",
       " 0.03618261682250937,\n",
       " 0.03549675019658852,\n",
       " 0.03483516958818473,\n",
       " 0.03419668461929236,\n",
       " 0.033580175695464995,\n",
       " 0.032984589273370654,\n",
       " 0.032408933462398815,\n",
       " 0.031852273937458674,\n",
       " 0.03131373014131648,\n",
       " 0.030792471756052514,\n",
       " 0.030287715424447696,\n",
       " 0.029798721703317883,\n",
       " 0.029324792231990117,\n",
       " 0.028865267100245107,\n",
       " 0.028419522401132394,\n",
       " 0.027986967955090848,\n",
       " 0.027567045192779194,\n",
       " 0.02715922518493329,\n",
       " 0.026763006808425686,\n",
       " 0.026377915038503515,\n",
       " 0.02600349935792859,\n",
       " 0.025639332274439753,\n",
       " 0.025285007938604387,\n",
       " 0.0249401408547257,\n",
       " 0.024604364678028796,\n",
       " 0.02427733109186321,\n",
       " 0.023958708759135104,\n",
       " 0.023648182342622722,\n",
       " 0.02334545158923479,\n",
       " 0.023050230473646065,\n",
       " 0.02276224639709046,\n",
       " 0.022481239437411885,\n",
       " 0.02220696164676565]"
      ]
     },
     "execution_count": 35,
     "metadata": {},
     "output_type": "execute_result"
    }
   ],
   "source": [
    "listE_total"
   ]
  },
  {
   "cell_type": "code",
   "execution_count": 34,
   "metadata": {},
   "outputs": [
    {
     "data": {
      "text/plain": [
       "<function matplotlib.pyplot.show>"
      ]
     },
     "execution_count": 34,
     "metadata": {},
     "output_type": "execute_result"
    },
    {
     "data": {
      "image/png": "[encoded data removed]",
      "text/plain": [
       "<matplotlib.figure.Figure at 0xab5d9b1b00>"
      ]
     },
     "metadata": {},
     "output_type": "display_data"
    }
   ],
   "source": [
    "plt.plot(listE_total, listCount)\n",
    "plt.show"
   ]
  },
  {
   "cell_type": "code",
   "execution_count": 31,
   "metadata": {},
   "outputs": [
    {
     "name": "stdout",
     "output_type": "stream",
     "text": [
      "[0, 1, 2, 3, 4, 5, 6, 7, 8, 9, 10, 11, 12, 13, 14, 15, 16, 17, 18, 19, 20, 21, 22, 23, 24, 25, 26, 27, 28, 29, 30, 31, 32, 33, 34, 35, 36, 37, 38, 39, 40, 41, 42, 43, 44, 45, 46, 47, 48, 49, 50, 51, 52, 53, 54, 55, 56, 57, 58, 59, 60, 61, 62, 63, 64, 65, 66, 67, 68, 69, 70, 71, 72, 73, 74, 75, 76, 77, 78, 79, 80, 81, 82, 83, 84, 85, 86, 87, 88, 89, 90, 91, 92, 93, 94, 95, 96, 97, 98, 99]\n"
     ]
    }
   ],
   "source": [
    "list = []\n",
    "for i in range(100):\n",
    "    list.append(i)\n",
    "print(list)"
   ]
  },
  {
   "cell_type": "code",
   "execution_count": 2,
   "metadata": {
    "collapsed": true
   },
   "outputs": [],
   "source": [
    "############################################################################################################################\n",
    "###                                                   CAMADA 1                                                           ###\n",
    "############################################################################################################################"
   ]
  },
  {
   "cell_type": "code",
   "execution_count": 3,
   "metadata": {
    "collapsed": true
   },
   "outputs": [],
   "source": [
    "#Perceptron H1\n",
    "entradas = [0.05, 0.1]     # x1 e x2\n",
    "bias = 0.35                # layer1\n",
    "pesos = [0.15, 0.2]        # w1 e w2\n",
    "\n",
    "perceptron_h1 = Perceptron(entradas, pesos, bias)"
   ]
  },
  {
   "cell_type": "code",
   "execution_count": 4,
   "metadata": {
    "collapsed": true
   },
   "outputs": [],
   "source": [
    "#Perceptron H2\n",
    "entradas = [0.05, 0.1]     # x1 e x2\n",
    "bias = 0.35                # layer1\n",
    "pesos = [0.25, 0.3]        # w3 e w4\n",
    "\n",
    "perceptron_h2 = Perceptron(entradas, pesos, bias)"
   ]
  },
  {
   "cell_type": "code",
   "execution_count": 5,
   "metadata": {},
   "outputs": [
    {
     "name": "stdout",
     "output_type": "stream",
     "text": [
      "0.3775\n",
      "0.39249999999999996\n"
     ]
    }
   ],
   "source": [
    "#Resultado dos Somatórios\n",
    "uh1 = perceptron_h1.somatorio()\n",
    "uh2 = perceptron_h2.somatorio()\n",
    "print(uh1)\n",
    "print(uh2)"
   ]
  },
  {
   "cell_type": "code",
   "execution_count": 6,
   "metadata": {},
   "outputs": [
    {
     "name": "stdout",
     "output_type": "stream",
     "text": [
      "0.5932699921071872\n",
      "0.596884378259767\n"
     ]
    }
   ],
   "source": [
    "#Resultado das funções de ativação\n",
    "h1 = perceptron_h1.sigmoide(uh1)\n",
    "h2 = perceptron_h2.sigmoide(uh2)\n",
    "print(h1)\n",
    "print(h2)"
   ]
  },
  {
   "cell_type": "code",
   "execution_count": 7,
   "metadata": {
    "collapsed": true
   },
   "outputs": [],
   "source": [
    "############################################################################################################################\n",
    "###                                                   CAMADA 2                                                           ###\n",
    "############################################################################################################################"
   ]
  },
  {
   "cell_type": "code",
   "execution_count": 8,
   "metadata": {
    "collapsed": true
   },
   "outputs": [],
   "source": [
    "#Perceptron O1\n",
    "entradas = [h1, h2]\n",
    "bias = 0.6                 # layer2\n",
    "pesos = [0.4, 0.45]        # w5 e w6\n",
    "\n",
    "perceptron_o1 = Perceptron(entradas, pesos, bias)"
   ]
  },
  {
   "cell_type": "code",
   "execution_count": 9,
   "metadata": {
    "collapsed": true
   },
   "outputs": [],
   "source": [
    "#Perceptron O2\n",
    "entradas = [h1, h2]\n",
    "bias = 0.6                 # layer2\n",
    "pesos = [0.5, 0.55]        # w7 e w8\n",
    "\n",
    "perceptron_o2 = Perceptron(entradas, pesos, bias)"
   ]
  },
  {
   "cell_type": "code",
   "execution_count": 10,
   "metadata": {},
   "outputs": [
    {
     "name": "stdout",
     "output_type": "stream",
     "text": [
      "1.1059059670597702\n",
      "1.2249214040964653\n"
     ]
    }
   ],
   "source": [
    "#Resultado dos Somatórios\n",
    "uo1 = perceptron_o1.somatorio()\n",
    "uo2 = perceptron_o2.somatorio()\n",
    "print(uo1)\n",
    "print(uo2)"
   ]
  },
  {
   "cell_type": "code",
   "execution_count": 11,
   "metadata": {},
   "outputs": [
    {
     "name": "stdout",
     "output_type": "stream",
     "text": [
      "0.7513650695523157\n",
      "0.7729284653214625\n"
     ]
    }
   ],
   "source": [
    "#Resultado das funções de ativação\n",
    "o1 = perceptron_o1.sigmoide(uo1)\n",
    "o2 = perceptron_o2.sigmoide(uo2)\n",
    "print(o1)\n",
    "print(o2)"
   ]
  },
  {
   "cell_type": "code",
   "execution_count": 12,
   "metadata": {
    "collapsed": true
   },
   "outputs": [],
   "source": [
    "saidas = [0.01, 0.99]     # y1 e y2\n",
    "results = [o1, o2]"
   ]
  },
  {
   "cell_type": "code",
   "execution_count": 13,
   "metadata": {
    "collapsed": true
   },
   "outputs": [],
   "source": [
    "#Métodos para o Backpropagation\n",
    "def erroTotal(results, saidas):\n",
    "    result = 0\n",
    "    for i in range(len(results)):\n",
    "        result += 1 / 2 * (saidas[i] - results[i]) ** 2\n",
    "    return result\n",
    "\n",
    "#servem para a última camada\n",
    "#derivada\n",
    "def derivada(saida_desejada, funcao_ativacao1, funcao_ativacao2):\n",
    "    return -(saida_desejada - funcao_ativacao1) * funcao_ativacao1 * (1 - funcao_ativacao1) * funcao_ativacao2\n",
    "#valor t + 1 do peso\n",
    "def novoPeso(peso_atual, taxa_aprendizado, d_peso):\n",
    "    return peso_atual - taxa_aprendizado * d_peso\n",
    "\n",
    "#outras camadas\n",
    "def derivada2(saida_desejada, funcao_ativacao):\n",
    "    return -(saida_desejada - funcao_ativacao) * funcao_ativacao * (1 - funcao_ativacao)\n",
    "    \n",
    "def derivada3(peso, derivada, funcao_ativacao):\n",
    "    return (peso[0] * derivada[0] + peso[1] * derivada[1]) * funcao_ativacao * (1 - funcao_ativacao)\n",
    "\n",
    "def novoPeso2(peso_atual, taxa_aprendizado, d_peso):\n",
    "    return peso_atual - taxa_aprendizado * d_peso * saida_desejada"
   ]
  },
  {
   "cell_type": "code",
   "execution_count": 14,
   "metadata": {},
   "outputs": [
    {
     "name": "stdout",
     "output_type": "stream",
     "text": [
      "0.2983711087600027\n"
     ]
    }
   ],
   "source": [
    "E_total = erroTotal(results, saidas)\n",
    "print(E_total)"
   ]
  },
  {
   "cell_type": "code",
   "execution_count": 15,
   "metadata": {
    "collapsed": true
   },
   "outputs": [],
   "source": [
    "###########################################            CORRIGINDO            ##############################################"
   ]
  },
  {
   "cell_type": "code",
   "execution_count": 16,
   "metadata": {
    "collapsed": true
   },
   "outputs": [],
   "source": [
    "###Camada 2###"
   ]
  },
  {
   "cell_type": "code",
   "execution_count": 17,
   "metadata": {},
   "outputs": [
    {
     "name": "stdout",
     "output_type": "stream",
     "text": [
      "0.08216704056423077\n",
      "0.35891647971788465\n"
     ]
    }
   ],
   "source": [
    "#calcula a derivada de w5\n",
    "d_w5 = derivada(0.01, o1, h1)\n",
    "print(d_w5)\n",
    "taxa_aprendizado = 0.5\n",
    "#calcula o valor ajustado de w5\n",
    "w5_novo = novoPeso(perceptron_o1.pesos[0], taxa_aprendizado, d_w5)\n",
    "print(w5_novo)"
   ]
  },
  {
   "cell_type": "code",
   "execution_count": 18,
   "metadata": {},
   "outputs": [
    {
     "name": "stdout",
     "output_type": "stream",
     "text": [
      "0.08266762784753325\n",
      "0.4086661860762334\n"
     ]
    }
   ],
   "source": [
    "#calcula a derivada de w6\n",
    "d_w6 = derivada(0.01, o1, h2)\n",
    "print(d_w6)\n",
    "taxa_aprendizado = 0.5\n",
    "#calcula o valor ajustado de w6\n",
    "w6_novo = novoPeso(perceptron_o1.pesos[1], taxa_aprendizado, d_w6)\n",
    "print(w6_novo)"
   ]
  },
  {
   "cell_type": "code",
   "execution_count": 19,
   "metadata": {},
   "outputs": [
    {
     "name": "stdout",
     "output_type": "stream",
     "text": [
      "-0.02260254047747507\n",
      "0.5113012702387375\n"
     ]
    }
   ],
   "source": [
    "#calcula a derivada de w7\n",
    "d_w7 = derivada(0.99, o2, h1)\n",
    "print(d_w7)\n",
    "taxa_aprendizado = 0.5\n",
    "#calcula o valor ajustado de w7\n",
    "w7_novo = novoPeso(perceptron_o2.pesos[0], taxa_aprendizado, d_w7)\n",
    "print(w7_novo)"
   ]
  },
  {
   "cell_type": "code",
   "execution_count": 20,
   "metadata": {},
   "outputs": [
    {
     "name": "stdout",
     "output_type": "stream",
     "text": [
      "-0.001904911825827812\n",
      "0.550952455912914\n"
     ]
    }
   ],
   "source": [
    "#calcula a derivada de w8\n",
    "d_w8 = derivada(0.99, o2, 0.05)\n",
    "print(d_w8)\n",
    "taxa_aprendizado = 0.5\n",
    "#calcula o valor ajustado de w8\n",
    "w8_novo = novoPeso(perceptron_o2.pesos[1], taxa_aprendizado, d_w8)\n",
    "print(w8_novo)"
   ]
  },
  {
   "cell_type": "code",
   "execution_count": 21,
   "metadata": {
    "collapsed": true
   },
   "outputs": [],
   "source": [
    "###Camada 1###"
   ]
  },
  {
   "cell_type": "code",
   "execution_count": 22,
   "metadata": {},
   "outputs": [
    {
     "name": "stdout",
     "output_type": "stream",
     "text": [
      "0.13849856162855695\n"
     ]
    }
   ],
   "source": [
    "#d_o1 = -(y1 - go1) * go1 * (1 - go1)\n",
    "d_o1 = -(saidas[0] - o1) * o1 * (1 - o1)\n",
    "print(d_o1)\n",
    "\n",
    "# esse seria o resultado de d_Eo1 / d_uo1"
   ]
  },
  {
   "cell_type": "code",
   "execution_count": 23,
   "metadata": {},
   "outputs": [
    {
     "name": "stdout",
     "output_type": "stream",
     "text": [
      "0.02172287068719212\n"
     ]
    }
   ],
   "source": [
    "#d_h1 = (w5 * d_o1 + w2 * d_o1) * gh1 * (1 - gh1)\n",
    "d_h1 = (perceptron_o1.pesos[1] * d_o1 + perceptron_h1.pesos[1] * d_o1) * h1 * (1 - h1)\n",
    "print(d_h1)"
   ]
  },
  {
   "cell_type": "code",
   "execution_count": 34,
   "metadata": {},
   "outputs": [
    {
     "name": "stdout",
     "output_type": "stream",
     "text": [
      "0.1497827712931281\n"
     ]
    }
   ],
   "source": [
    "w1_novo = perceptron_h1.pesos[0] - d_h1 * saidas[0]\n",
    "print(w1_novo)"
   ]
  },
  {
   "cell_type": "code",
   "execution_count": 35,
   "metadata": {},
   "outputs": [
    {
     "name": "stdout",
     "output_type": "stream",
     "text": [
      "0.19989138564656406\n"
     ]
    }
   ],
   "source": [
    "#w2(t + 1) = w2(t) - d_h1 * y1\n",
    "w2_novo = perceptron_h1.pesos[1] - d_h1 * saidas[0]\n",
    "print(w2_novo)\n",
    "#Segundo o prof o i1 é y1"
   ]
  },
  {
   "cell_type": "code",
   "execution_count": 26,
   "metadata": {},
   "outputs": [
    {
     "name": "stdout",
     "output_type": "stream",
     "text": [
      "-0.038098236516556236\n"
     ]
    }
   ],
   "source": [
    "#d_o2 = -(y2 - go2) * go2 * (1 - go2)\n",
    "d_o2 = -(saidas[1] - o2) * o2 * (1 - o2)\n",
    "print(d_o2)"
   ]
  },
  {
   "cell_type": "code",
   "execution_count": 27,
   "metadata": {},
   "outputs": [
    {
     "name": "stdout",
     "output_type": "stream",
     "text": [
      "0.009954254705217196\n"
     ]
    }
   ],
   "source": [
    "#d_h2 = (w6 * d_o1 + w8 * d_o2) * gh2 * (1 - gh2)\n",
    "d_h2 = (perceptron_o1.pesos[1] * d_o1 + perceptron_o2.pesos[1] * d_o2) * h2 * (1 - h2)\n",
    "print(d_h2)"
   ]
  },
  {
   "cell_type": "code",
   "execution_count": 36,
   "metadata": {},
   "outputs": [
    {
     "name": "stdout",
     "output_type": "stream",
     "text": [
      "0.2450726439209175\n"
     ]
    }
   ],
   "source": [
    "#w3(t + 1) = w3(t) - d_h2 * y2\n",
    "w3_novo = perceptron_h2.pesos[0] - d_h2 * saidas[1]\n",
    "print(w3_novo)"
   ]
  },
  {
   "cell_type": "code",
   "execution_count": 32,
   "metadata": {},
   "outputs": [
    {
     "name": "stdout",
     "output_type": "stream",
     "text": [
      "0.29014528784183496\n"
     ]
    }
   ],
   "source": [
    "#w4(t + 1) = w4(t) - d_h2 * y2\n",
    "w4_novo = perceptron_h2.pesos[1] - d_h2 * saidas[1]\n",
    "print(w4_novo)"
   ]
  },
  {
   "cell_type": "code",
   "execution_count": null,
   "metadata": {
    "collapsed": true
   },
   "outputs": [],
   "source": []
  },
  {
   "cell_type": "code",
   "execution_count": null,
   "metadata": {
    "collapsed": true
   },
   "outputs": [],
   "source": [
    "#epocas = 1000"
   ]
  }
 ],
 "metadata": {
  "kernelspec": {
   "display_name": "Python 3",
   "language": "python",
   "name": "python3"
  },
  "language_info": {
   "codemirror_mode": {
    "name": "ipython",
    "version": 3
   },
   "file_extension": ".py",
   "mimetype": "text/x-python",
   "name": "python",
   "nbconvert_exporter": "python",
   "pygments_lexer": "ipython3",
   "version": "3.6.2"
  }
 },
 "nbformat": 4,
 "nbformat_minor": 2
}
