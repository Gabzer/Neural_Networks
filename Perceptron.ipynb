{
 "cells": [
  {
   "cell_type": "code",
   "execution_count": 5,
   "metadata": {
    "collapsed": true
   },
   "outputs": [],
   "source": [
    "import math\n",
    "\n",
    "#o perceptron com a função de ativação sigmoidiana\n",
    "class Perceptron:\n",
    "\n",
    "    def __init__(self, entradas, saidas, taxa_aprendizado, epocas, bias, pesos):\n",
    "        self.entradas = entradas # todas as entradas\n",
    "        self.saidas = saidas # saídas respectivas de cada entradas\n",
    "        self.taxa_aprendizado = taxa_aprendizado # taxa de aprendizado (entre 0 e 1)\n",
    "        self.epocas = epocas # número de épocas\n",
    "        self.bias = bias # bias\n",
    "        #self.num_entradas = len(entradas) # quantidade de entradas\n",
    "        #self.num_entradas = len(entradas[0]) # quantidade de elementos por cada entradas\n",
    "        self.pesos = pesos # vetor dos pesos \n",
    "        \n",
    "    #somatório\n",
    "    def somatorio(self):\n",
    "        result = self.bias\n",
    "        for i in range(len(self.entradas)):\n",
    "            result += self.entradas[i] * self.pesos[i]\n",
    "        return result\n",
    "\n",
    "    #função sigmoidiana\n",
    "    def sigmoide(self, somatorio):\n",
    "        return 1 / (1 + math.exp(-somatorio))"
   ]
  },
  {
   "cell_type": "code",
   "execution_count": 6,
   "metadata": {},
   "outputs": [],
   "source": [
    "#########################\n",
    "#         Teste         #\n",
    "#########################\n",
    "entradas = [0.05, 0.1]\n",
    "pesos = [0.15, 0.2]\n",
    "\n",
    "percptH1 = Perceptron(entradas, 0.01, 0.5, 1000, 0.35, pesos)\n",
    "result = percptH1.somatorio()"
   ]
  },
  {
   "cell_type": "code",
   "execution_count": 7,
   "metadata": {},
   "outputs": [
    {
     "data": {
      "text/plain": [
       "0.5932699921071872"
      ]
     },
     "execution_count": 7,
     "metadata": {},
     "output_type": "execute_result"
    }
   ],
   "source": [
    "percptH1.sigmoide(result)"
   ]
  },
  {
   "cell_type": "code",
   "execution_count": 4,
   "metadata": {
    "collapsed": true
   },
   "outputs": [],
   "source": [
    "#Okay até aqui"
   ]
  }
 ],
 "metadata": {
  "kernelspec": {
   "display_name": "Python 3",
   "language": "python",
   "name": "python3"
  },
  "language_info": {
   "codemirror_mode": {
    "name": "ipython",
    "version": 3
   },
   "file_extension": ".py",
   "mimetype": "text/x-python",
   "name": "python",
   "nbconvert_exporter": "python",
   "pygments_lexer": "ipython3",
   "version": "3.6.2"
  }
 },
 "nbformat": 4,
 "nbformat_minor": 2
}
