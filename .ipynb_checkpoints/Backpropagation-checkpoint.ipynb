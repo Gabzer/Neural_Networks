{
 "cells": [
  {
   "cell_type": "code",
   "execution_count": 1,
   "metadata": {
    "collapsed": true
   },
   "outputs": [],
   "source": [
    "import math"
   ]
  },
  {
   "cell_type": "code",
   "execution_count": 2,
   "metadata": {
    "collapsed": true
   },
   "outputs": [],
   "source": [
    "#o perceptron com a função de ativação sigmoidiana\n",
    "class Perceptron:\n",
    "\n",
    "    def __init__(self, entradas, pesos,  bias):\n",
    "        self.entradas = entradas # todas as entradas\n",
    "        self.pesos = pesos # vetor dos pesos        \n",
    "        self.bias = bias # bias\n",
    "        #self.saidas = saidas # saídas respectivas de cada entradas\n",
    "        #self.taxa_aprendizado = taxa_aprendizado # taxa de aprendizado (entre 0 e 1)\n",
    "        #self.epocas = epocas # número de épocas\n",
    "        #self.num_entradas = len(entradas) # quantidade de entradas\n",
    "        #self.num_entradas = len(entradas[0]) # quantidade de elementos por cada entradas\n",
    "        \n",
    "    #somatório\n",
    "    def somatorio(self):\n",
    "        result = self.bias\n",
    "        for i in range(len(self.entradas)):\n",
    "            result += self.entradas[i] * self.pesos[i]\n",
    "        return result\n",
    "\n",
    "    #função sigmoidiana\n",
    "    def sigmoide(self, somatorio):\n",
    "        return 1 / (1 + math.exp(-somatorio))"
   ]
  },
  {
   "cell_type": "code",
   "execution_count": 3,
   "metadata": {
    "collapsed": true
   },
   "outputs": [],
   "source": [
    "############################################################################################################################\n",
    "###                                                   CAMADA 1                                                           ###\n",
    "############################################################################################################################"
   ]
  },
  {
   "cell_type": "code",
   "execution_count": 4,
   "metadata": {
    "collapsed": true
   },
   "outputs": [],
   "source": [
    "#Perceptron H1\n",
    "entradas = [0.05, 0.1]     # x1 e x2\n",
    "bias = 0.35                # layer1\n",
    "pesos = [0.15, 0.2]        # w1 e w2\n",
    "\n",
    "perceptron_h1 = Perceptron(entradas, pesos, bias)"
   ]
  },
  {
   "cell_type": "code",
   "execution_count": 5,
   "metadata": {
    "collapsed": true
   },
   "outputs": [],
   "source": [
    "#Perceptron H2\n",
    "entradas = [0.05, 0.1]     # x1 e x2\n",
    "bias = 0.35                # layer1\n",
    "pesos = [0.25, 0.3]        # w3 e w4\n",
    "\n",
    "perceptron_h2 = Perceptron(entradas, pesos, bias)"
   ]
  },
  {
   "cell_type": "code",
   "execution_count": 6,
   "metadata": {},
   "outputs": [
    {
     "name": "stdout",
     "output_type": "stream",
     "text": [
      "0.3775\n",
      "0.39249999999999996\n"
     ]
    }
   ],
   "source": [
    "#Resultado dos Somatórios\n",
    "uh1 = perceptron_h1.somatorio()\n",
    "uh2 = perceptron_h2.somatorio()\n",
    "print(uh1)\n",
    "print(uh2)"
   ]
  },
  {
   "cell_type": "code",
   "execution_count": 7,
   "metadata": {},
   "outputs": [
    {
     "name": "stdout",
     "output_type": "stream",
     "text": [
      "0.5932699921071872\n",
      "0.596884378259767\n"
     ]
    }
   ],
   "source": [
    "#Resultado das funções de ativação\n",
    "h1 = perceptron_h1.sigmoide(uh1)\n",
    "h2 = perceptron_h2.sigmoide(uh2)\n",
    "print(h1)\n",
    "print(h2)"
   ]
  },
  {
   "cell_type": "code",
   "execution_count": 8,
   "metadata": {
    "collapsed": true
   },
   "outputs": [],
   "source": [
    "############################################################################################################################\n",
    "###                                                   CAMADA 2                                                           ###\n",
    "############################################################################################################################"
   ]
  },
  {
   "cell_type": "code",
   "execution_count": 9,
   "metadata": {
    "collapsed": true
   },
   "outputs": [],
   "source": [
    "#Perceptron O1\n",
    "entradas = [h1, h2]\n",
    "bias = 0.6                 # layer2\n",
    "pesos = [0.4, 0.45]        # w5 e w6\n",
    "\n",
    "perceptron_o1 = Perceptron(entradas, pesos, bias)"
   ]
  },
  {
   "cell_type": "code",
   "execution_count": 10,
   "metadata": {
    "collapsed": true
   },
   "outputs": [],
   "source": [
    "#Perceptron O2\n",
    "entradas = [h1, h2]\n",
    "bias = 0.6                 # layer2\n",
    "pesos = [0.5, 0.55]        # w7 e w8\n",
    "\n",
    "perceptron_o2 = Perceptron(entradas, pesos, bias)"
   ]
  },
  {
   "cell_type": "code",
   "execution_count": 11,
   "metadata": {},
   "outputs": [
    {
     "name": "stdout",
     "output_type": "stream",
     "text": [
      "1.1059059670597702\n",
      "1.2249214040964653\n"
     ]
    }
   ],
   "source": [
    "#Resultado dos Somatórios\n",
    "uo1 = perceptron_o1.somatorio()\n",
    "uo2 = perceptron_o2.somatorio()\n",
    "print(uo1)\n",
    "print(uo2)"
   ]
  },
  {
   "cell_type": "code",
   "execution_count": 12,
   "metadata": {},
   "outputs": [
    {
     "name": "stdout",
     "output_type": "stream",
     "text": [
      "0.7513650695523157\n",
      "0.7729284653214625\n"
     ]
    }
   ],
   "source": [
    "#Resultado das funções de ativação\n",
    "o1 = perceptron_o1.sigmoide(uo1)\n",
    "o2 = perceptron_o2.sigmoide(uo2)\n",
    "print(o1)\n",
    "print(o2)"
   ]
  },
  {
   "cell_type": "code",
   "execution_count": 13,
   "metadata": {
    "collapsed": true
   },
   "outputs": [],
   "source": [
    "saidas = [0.01, 0.99]     # y1 e y2\n",
    "results = [o1, o2]"
   ]
  },
  {
   "cell_type": "code",
   "execution_count": 14,
   "metadata": {
    "collapsed": true
   },
   "outputs": [],
   "source": [
    "#Métodos para o Backpropagation\n",
    "def erroTotal(results, saidas):\n",
    "    result = 0\n",
    "    for i in range(len(results)):\n",
    "        result += 1 / 2 * (saidas[i] - results[i]) ** 2\n",
    "    return result\n",
    "\n",
    "#servem para a última camada\n",
    "#derivada\n",
    "def derivada(saida_desejada, funcao_ativacao1, funcao_ativacao2):\n",
    "    return -(saida_desejada - funcao_ativacao1) * funcao_ativacao1 * (1 - funcao_ativacao1) * funcao_ativacao2\n",
    "#valor t + 1 do peso\n",
    "def novoPeso(peso_atual, taxa_aprendizado, d_peso):\n",
    "    return peso_atual - taxa_aprendizado * d_peso\n",
    "\n",
    "#outras camadas\n"
   ]
  },
  {
   "cell_type": "code",
   "execution_count": 15,
   "metadata": {},
   "outputs": [
    {
     "name": "stdout",
     "output_type": "stream",
     "text": [
      "0.2983711087600027\n"
     ]
    }
   ],
   "source": [
    "E_total = erroTotal(results, saidas)\n",
    "print(E_total)"
   ]
  },
  {
   "cell_type": "code",
   "execution_count": 16,
   "metadata": {
    "collapsed": true
   },
   "outputs": [],
   "source": [
    "###########################################            CORRIGINDO            ##############################################"
   ]
  },
  {
   "cell_type": "code",
   "execution_count": 17,
   "metadata": {
    "collapsed": true
   },
   "outputs": [],
   "source": [
    "###Camada 2###"
   ]
  },
  {
   "cell_type": "code",
   "execution_count": 18,
   "metadata": {},
   "outputs": [
    {
     "name": "stdout",
     "output_type": "stream",
     "text": [
      "0.08216704056423077\n",
      "0.35891647971788465\n"
     ]
    }
   ],
   "source": [
    "#calcula a derivada de w5\n",
    "d_w5 = derivada(0.01, o1, h1)\n",
    "print(d_w5)\n",
    "taxa_aprendizado = 0.5\n",
    "#calcula o valor ajustado de w5\n",
    "w5_novo = novoPeso(perceptron_o1.pesos[0], taxa_aprendizado, d_w5)\n",
    "print(w5_novo)"
   ]
  },
  {
   "cell_type": "code",
   "execution_count": 19,
   "metadata": {},
   "outputs": [
    {
     "name": "stdout",
     "output_type": "stream",
     "text": [
      "0.4086661860762334\n"
     ]
    }
   ],
   "source": [
    "#calcula a derivada de w6\n",
    "d_w6 = derivada(0.01, o1, h2)\n",
    "taxa_aprendizado = 0.5\n",
    "#calcula o valor ajustado de w6\n",
    "w6_novo = novoPeso(perceptron_o1.pesos[1], taxa_aprendizado, d_w6)\n",
    "print(w6_novo)"
   ]
  },
  {
   "cell_type": "code",
   "execution_count": 20,
   "metadata": {},
   "outputs": [
    {
     "name": "stdout",
     "output_type": "stream",
     "text": [
      "0.5113012702387375\n"
     ]
    }
   ],
   "source": [
    "#calcula a derivada de w7\n",
    "d_w7 = derivada(0.99, o2, h1)\n",
    "taxa_aprendizado = 0.5\n",
    "#calcula o valor ajustado de w7\n",
    "w7_novo = novoPeso(perceptron_o2.pesos[0], taxa_aprendizado, d_w7)\n",
    "print(w7_novo)"
   ]
  },
  {
   "cell_type": "code",
   "execution_count": 21,
   "metadata": {},
   "outputs": [
    {
     "name": "stdout",
     "output_type": "stream",
     "text": [
      "0.550952455912914\n"
     ]
    }
   ],
   "source": [
    "#calcula a derivada de w8\n",
    "d_w8 = derivada(0.99, o2, 0.05)\n",
    "taxa_aprendizado = 0.5\n",
    "#calcula o valor ajustado de w8\n",
    "w8_novo = novoPeso(perceptron_o2.pesos[1], taxa_aprendizado, d_w8)\n",
    "print(w8_novo)"
   ]
  },
  {
   "cell_type": "code",
   "execution_count": 22,
   "metadata": {
    "collapsed": true
   },
   "outputs": [],
   "source": [
    "###Camada 1###"
   ]
  },
  {
   "cell_type": "code",
   "execution_count": 36,
   "metadata": {
    "collapsed": true
   },
   "outputs": [],
   "source": [
    "#d_o1 = -(y1 - go1) * go1 * (1 - go1)\n",
    "d_o1 = -(saidas[0] - o1) * o1 * (1 - o1)\n",
    "print(d_o1)\n",
    "\n",
    "#d_o2 = -(y2 - go2) * go2 * (1 - go2)\n",
    "d_o2 = -(saidas[1] - o2) * o2 * (1 - o2)\n",
    "print(d_o2)\n",
    "\n",
    "#d_h1 = (w5 * d_o1 + w2 * d_o1) * gh1 * (1 - gh1)\n",
    "d_h1 = (perceptron_o1.pesos[1] * d_o1 + perceptron_h1.pesos[1] * d_o1) * h1 * (1 - h1)\n",
    "print(d_h1)\n"
   ]
  },
  {
   "cell_type": "code",
   "execution_count": 37,
   "metadata": {},
   "outputs": [
    {
     "name": "stdout",
     "output_type": "stream",
     "text": [
      "0.13849856162855695\n"
     ]
    }
   ],
   "source": [
    "#d_o1 = -(y1 - go1) * go1 * (1 - go1)\n",
    "d_o1 = -(saidas[0] - o1) * o1 * (1 - o1)\n",
    "print(d_o1)\n",
    "\n",
    "# esse seria o resultado de d_Eo1 / d_uo1"
   ]
  },
  {
   "cell_type": "code",
   "execution_count": null,
   "metadata": {
    "collapsed": true
   },
   "outputs": [],
   "source": []
  }
 ],
 "metadata": {
  "kernelspec": {
   "display_name": "Python 3",
   "language": "python",
   "name": "python3"
  },
  "language_info": {
   "codemirror_mode": {
    "name": "ipython",
    "version": 3
   },
   "file_extension": ".py",
   "mimetype": "text/x-python",
   "name": "python",
   "nbconvert_exporter": "python",
   "pygments_lexer": "ipython3",
   "version": "3.6.2"
  }
 },
 "nbformat": 4,
 "nbformat_minor": 2
}
